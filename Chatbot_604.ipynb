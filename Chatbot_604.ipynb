{
 "cells": [
  {
   "cell_type": "code",
   "execution_count": 4,
   "id": "9dcb9d53-f98b-4eda-b33d-31898afedec0",
   "metadata": {},
   "outputs": [
    {
     "name": "stdout",
     "output_type": "stream",
     "text": [
      "Training ai.yml: [####################] 100%\n",
      "Training botprofile.yml: [####################] 100%\n",
      "Training computers.yml: [####################] 100%\n",
      "Training conversations.yml: [####################] 100%\n",
      "Training emotion.yml: [####################] 100%\n",
      "Training food.yml: [####################] 100%\n",
      "Training gossip.yml: [####################] 100%\n",
      "Training greetings.yml: [####################] 100%\n",
      "Training health.yml: [####################] 100%\n",
      "Training history.yml: [####################] 100%\n",
      "Training humor.yml: [####################] 100%\n",
      "Training literature.yml: [####################] 100%\n",
      "Training money.yml: [####################] 100%\n",
      "Training movies.yml: [####################] 100%\n",
      "Training politics.yml: [####################] 100%\n",
      "Training psychology.yml: [####################] 100%\n",
      "Training science.yml: [####################] 100%\n",
      "Training sports.yml: [####################] 100%\n",
      "Training trivia.yml: [####################] 100%\n"
     ]
    },
    {
     "ename": "FileNotFoundError",
     "evalue": "[Errno 2] No such file or directory: 'Data ethics involves responsible and fair handling of data to ensure privacy and integrity\\\\'",
     "output_type": "error",
     "traceback": [
      "\u001b[1;31m---------------------------------------------------------------------------\u001b[0m",
      "\u001b[1;31mFileNotFoundError\u001b[0m                         Traceback (most recent call last)",
      "Cell \u001b[1;32mIn[4], line 26\u001b[0m\n\u001b[0;32m     15\u001b[0m data_ethics_responses \u001b[38;5;241m=\u001b[39m [\n\u001b[0;32m     16\u001b[0m     \u001b[38;5;124m'\u001b[39m\u001b[38;5;124mData ethics involves responsible and fair handling of data to ensure privacy and integrity.\u001b[39m\u001b[38;5;124m'\u001b[39m,\n\u001b[0;32m     17\u001b[0m     \u001b[38;5;124m'\u001b[39m\u001b[38;5;124mCompanies should be transparent about how they collect, store, and use user data.\u001b[39m\u001b[38;5;124m'\u001b[39m,\n\u001b[1;32m   (...)\u001b[0m\n\u001b[0;32m     22\u001b[0m     \u001b[38;5;124m'\u001b[39m\u001b[38;5;124mRegular audits and reviews of data handling practices are necessary to ensure compliance with ethical standards.\u001b[39m\u001b[38;5;124m'\u001b[39m,\n\u001b[0;32m     23\u001b[0m ]\n\u001b[0;32m     25\u001b[0m \u001b[38;5;66;03m# Train the chatbot on custom data ethics responses\u001b[39;00m\n\u001b[1;32m---> 26\u001b[0m \u001b[43mtrainer\u001b[49m\u001b[38;5;241;43m.\u001b[39;49m\u001b[43mtrain\u001b[49m\u001b[43m(\u001b[49m\u001b[38;5;241;43m*\u001b[39;49m\u001b[43mdata_ethics_responses\u001b[49m\u001b[43m)\u001b[49m\n\u001b[0;32m     28\u001b[0m \u001b[38;5;66;03m# Function to interact with the chatbot using BERT-based NLP\u001b[39;00m\n\u001b[0;32m     29\u001b[0m \u001b[38;5;28;01mdef\u001b[39;00m \u001b[38;5;21mdata_ethics_chat\u001b[39m():\n",
      "File \u001b[1;32mc:\\users\\aliju\\appdata\\local\\programs\\python\\python38\\lib\\site-packages\\chatterbot\\trainers.py:135\u001b[0m, in \u001b[0;36mChatterBotCorpusTrainer.train\u001b[1;34m(self, *corpus_paths)\u001b[0m\n\u001b[0;32m    132\u001b[0m \u001b[38;5;28;01mfor\u001b[39;00m corpus_path \u001b[38;5;129;01min\u001b[39;00m corpus_paths:\n\u001b[0;32m    133\u001b[0m     data_file_paths\u001b[38;5;241m.\u001b[39mextend(list_corpus_files(corpus_path))\n\u001b[1;32m--> 135\u001b[0m \u001b[38;5;28;01mfor\u001b[39;00m corpus, categories, file_path \u001b[38;5;129;01min\u001b[39;00m load_corpus(\u001b[38;5;241m*\u001b[39mdata_file_paths):\n\u001b[0;32m    137\u001b[0m     statements_to_create \u001b[38;5;241m=\u001b[39m []\n\u001b[0;32m    139\u001b[0m     \u001b[38;5;66;03m# Train the chat bot with each statement and response pair\u001b[39;00m\n",
      "File \u001b[1;32mc:\\users\\aliju\\appdata\\local\\programs\\python\\python38\\lib\\site-packages\\chatterbot\\corpus.py:84\u001b[0m, in \u001b[0;36mload_corpus\u001b[1;34m(*data_file_paths)\u001b[0m\n\u001b[0;32m     82\u001b[0m \u001b[38;5;28;01mfor\u001b[39;00m file_path \u001b[38;5;129;01min\u001b[39;00m data_file_paths:\n\u001b[0;32m     83\u001b[0m     corpus \u001b[38;5;241m=\u001b[39m []\n\u001b[1;32m---> 84\u001b[0m     corpus_data \u001b[38;5;241m=\u001b[39m \u001b[43mread_corpus\u001b[49m\u001b[43m(\u001b[49m\u001b[43mfile_path\u001b[49m\u001b[43m)\u001b[49m\n\u001b[0;32m     86\u001b[0m     conversations \u001b[38;5;241m=\u001b[39m corpus_data\u001b[38;5;241m.\u001b[39mget(\u001b[38;5;124m'\u001b[39m\u001b[38;5;124mconversations\u001b[39m\u001b[38;5;124m'\u001b[39m, [])\n\u001b[0;32m     87\u001b[0m     corpus\u001b[38;5;241m.\u001b[39mextend(conversations)\n",
      "File \u001b[1;32mc:\\users\\aliju\\appdata\\local\\programs\\python\\python38\\lib\\site-packages\\chatterbot\\corpus.py:58\u001b[0m, in \u001b[0;36mread_corpus\u001b[1;34m(file_name)\u001b[0m\n\u001b[0;32m     51\u001b[0m     message \u001b[38;5;241m=\u001b[39m (\n\u001b[0;32m     52\u001b[0m         \u001b[38;5;124m'\u001b[39m\u001b[38;5;124mUnable to import \u001b[39m\u001b[38;5;124m\"\u001b[39m\u001b[38;5;124myaml\u001b[39m\u001b[38;5;124m\"\u001b[39m\u001b[38;5;124m.\u001b[39m\u001b[38;5;130;01m\\n\u001b[39;00m\u001b[38;5;124m'\u001b[39m\n\u001b[0;32m     53\u001b[0m         \u001b[38;5;124m'\u001b[39m\u001b[38;5;124mPlease install \u001b[39m\u001b[38;5;124m\"\u001b[39m\u001b[38;5;124mpyyaml\u001b[39m\u001b[38;5;124m\"\u001b[39m\u001b[38;5;124m to enable chatterbot corpus functionality:\u001b[39m\u001b[38;5;130;01m\\n\u001b[39;00m\u001b[38;5;124m'\u001b[39m\n\u001b[0;32m     54\u001b[0m         \u001b[38;5;124m'\u001b[39m\u001b[38;5;124mpip3 install pyyaml\u001b[39m\u001b[38;5;124m'\u001b[39m\n\u001b[0;32m     55\u001b[0m     )\n\u001b[0;32m     56\u001b[0m     \u001b[38;5;28;01mraise\u001b[39;00m OptionalDependencyImportError(message)\n\u001b[1;32m---> 58\u001b[0m \u001b[38;5;28;01mwith\u001b[39;00m \u001b[43mio\u001b[49m\u001b[38;5;241;43m.\u001b[39;49m\u001b[43mopen\u001b[49m\u001b[43m(\u001b[49m\u001b[43mfile_name\u001b[49m\u001b[43m,\u001b[49m\u001b[43m \u001b[49m\u001b[43mencoding\u001b[49m\u001b[38;5;241;43m=\u001b[39;49m\u001b[38;5;124;43m'\u001b[39;49m\u001b[38;5;124;43mutf-8\u001b[39;49m\u001b[38;5;124;43m'\u001b[39;49m\u001b[43m)\u001b[49m \u001b[38;5;28;01mas\u001b[39;00m data_file:\n\u001b[0;32m     59\u001b[0m     \u001b[38;5;28;01mreturn\u001b[39;00m yaml\u001b[38;5;241m.\u001b[39mload(data_file)\n",
      "\u001b[1;31mFileNotFoundError\u001b[0m: [Errno 2] No such file or directory: 'Data ethics involves responsible and fair handling of data to ensure privacy and integrity\\\\'"
     ]
    }
   ],
   "source": [
    "from chatterbot import ChatBot\n",
    "from chatterbot.trainers import ChatterBotCorpusTrainer\n",
    "from transformers import pipeline, Conversation\n",
    "\n",
    "# Create a new chatbot\n",
    "chatbot = ChatBot('AdvancedNLPDataEthicsBot')\n",
    "\n",
    "# Create a new trainer for the chatbot\n",
    "trainer = ChatterBotCorpusTrainer(chatbot)\n",
    "\n",
    "# Train the chatbot on the English language data\n",
    "trainer.train('chatterbot.corpus.english')\n",
    "\n",
    "# Add a more extensive set of data ethics-related responses\n",
    "data_ethics_responses = [\n",
    "    'Data ethics involves responsible and fair handling of data to ensure privacy and integrity.',\n",
    "    'Companies should be transparent about how they collect, store, and use user data.',\n",
    "    'Anonymizing data and obtaining user consent are essential aspects of data ethics.',\n",
    "    'Machine learning models should be designed to avoid bias and discrimination in data processing.',\n",
    "    'Data encryption is crucial for protecting sensitive information and maintaining data confidentiality.',\n",
    "    'Data ethics also involves proper disposal of data to prevent unauthorized access.',\n",
    "    'Regular audits and reviews of data handling practices are necessary to ensure compliance with ethical standards.',\n",
    "]\n",
    "\n",
    "# Train the chatbot on custom data ethics responses\n",
    "trainer.train(*data_ethics_responses)\n",
    "\n",
    "# Function to interact with the chatbot using BERT-based NLP\n",
    "def data_ethics_chat():\n",
    "    print(\"Advanced NLP Data Ethics ChatBot: Hi! How can I help you with data ethics today?\")\n",
    "    \n",
    "    conversation = Conversation()\n",
    "    \n",
    "    while True:\n",
    "        user_input = input(\"You: \")\n",
    "        if user_input.lower() == 'exit':\n",
    "            print(\"Advanced NLP Data Ethics ChatBot: Goodbye!\")\n",
    "            break\n",
    "\n",
    "        # Use BERT-based model for context-aware responses\n",
    "        conversation.add_user_input(user_input)\n",
    "        response = chatbot.get_response(user_input)\n",
    "\n",
    "        print(\"Advanced NLP Data Ethics ChatBot:\", response)\n",
    "\n",
    "# Start the chat\n",
    "data_ethics_chat()\n"
   ]
  },
  {
   "cell_type": "code",
   "execution_count": null,
   "id": "2a383624-794c-48c4-8c8e-b76635398a91",
   "metadata": {},
   "outputs": [],
   "source": []
  }
 ],
 "metadata": {
  "kernelspec": {
   "display_name": "Python 3 (ipykernel)",
   "language": "python",
   "name": "python3"
  },
  "language_info": {
   "codemirror_mode": {
    "name": "ipython",
    "version": 3
   },
   "file_extension": ".py",
   "mimetype": "text/x-python",
   "name": "python",
   "nbconvert_exporter": "python",
   "pygments_lexer": "ipython3",
   "version": "3.8.0"
  }
 },
 "nbformat": 4,
 "nbformat_minor": 5
}
